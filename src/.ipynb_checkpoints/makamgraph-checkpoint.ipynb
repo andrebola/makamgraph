{
 "metadata": {
  "name": "",
  "signature": "sha256:588f037dfdd07db48f735759c0c8417a2926ec01ce3f4e0bc8d526cbfb967ee4"
 },
 "nbformat": 3,
 "nbformat_minor": 0,
 "worksheets": [
  {
   "cells": [
    {
     "cell_type": "code",
     "collapsed": false,
     "input": [
      "from compmusic import dunya\n",
      "from compmusic.dunya import makam\n",
      "import codecs\n",
      "\n",
      "dunya.set_token('3d62cb5ea235fb739d85752677695594fe40888c')"
     ],
     "language": "python",
     "metadata": {},
     "outputs": [],
     "prompt_number": 14
    },
    {
     "cell_type": "heading",
     "level": 1,
     "metadata": {},
     "source": [
      "Get artists"
     ]
    },
    {
     "cell_type": "code",
     "collapsed": false,
     "input": [
      "artist_file = codecs.open('/homedtic/gkoduri/workspace/collaborations/makamgraph/data/artists.csv', 'w', encoding='utf-8')"
     ],
     "language": "python",
     "metadata": {},
     "outputs": [],
     "prompt_number": 22
    },
    {
     "cell_type": "code",
     "collapsed": false,
     "input": [
      "artists = makam.get_artists()\n",
      "artists = [[a['mbid'], a['name']] for a in artists]\n",
      "for a in artists:\n",
      "    artist_file.write(','.join(a))\n",
      "    artist_file.write('\\n')\n",
      "artist_file.close()"
     ],
     "language": "python",
     "metadata": {},
     "outputs": [],
     "prompt_number": 2
    },
    {
     "cell_type": "heading",
     "level": 1,
     "metadata": {},
     "source": [
      "Get the relations"
     ]
    },
    {
     "cell_type": "code",
     "collapsed": false,
     "input": [],
     "language": "python",
     "metadata": {},
     "outputs": []
    }
   ],
   "metadata": {}
  }
 ]
}