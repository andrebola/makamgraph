{
 "metadata": {
  "name": "",
  "signature": "sha256:de84c842dc6b44cc459d3ab1a63d8bcba1e5b83a21b9730929cdfc3c2ea2905a"
 },
 "nbformat": 3,
 "nbformat_minor": 0,
 "worksheets": [
  {
   "cells": [
    {
     "cell_type": "code",
     "collapsed": false,
     "input": [
      "from compmusic import dunya\n",
      "from compmusic.dunya import makam\n",
      "import codecs\n",
      "\n",
      "dunya.set_token('3d62cb5ea235fb739d85752677695594fe40888c')"
     ],
     "language": "python",
     "metadata": {},
     "outputs": [],
     "prompt_number": 9
    },
    {
     "cell_type": "heading",
     "level": 1,
     "metadata": {},
     "source": [
      "Get artists"
     ]
    },
    {
     "cell_type": "code",
     "collapsed": false,
     "input": [
      "artist_file = codecs.open('/homedtic/gkoduri/workspace/collaborations/makamgraph/data/artists.csv', 'w', encoding='utf-8')"
     ],
     "language": "python",
     "metadata": {},
     "outputs": []
    },
    {
     "cell_type": "code",
     "collapsed": false,
     "input": [
      "artists = makam.get_artists()\n",
      "artists = [[a['mbid'], a['name']] for a in artists]\n",
      "for a in artists:\n",
      "    artist_file.write(','.join(a))\n",
      "    artist_file.write('\\n')\n",
      "artist_file.close()"
     ],
     "language": "python",
     "metadata": {},
     "outputs": []
    },
    {
     "cell_type": "heading",
     "level": 1,
     "metadata": {},
     "source": [
      "Graph from the relations"
     ]
    },
    {
     "cell_type": "code",
     "collapsed": false,
     "input": [
      "import networkx as nx"
     ],
     "language": "python",
     "metadata": {},
     "outputs": []
    },
    {
     "cell_type": "code",
     "collapsed": false,
     "input": [
      "g = nx.Graph()"
     ],
     "language": "python",
     "metadata": {},
     "outputs": []
    },
    {
     "cell_type": "heading",
     "level": 2,
     "metadata": {},
     "source": [
      "recordings"
     ]
    },
    {
     "cell_type": "code",
     "collapsed": false,
     "input": [
      "recs = makam.get_recordings()"
     ],
     "language": "python",
     "metadata": {},
     "outputs": []
    },
    {
     "cell_type": "code",
     "collapsed": false,
     "input": [
      "for rec in recs:\n",
      "    print rec['mbid']\n",
      "    recinfo = makam.get_recording(rec['mbid'])\n",
      "    \n",
      "    #co-performers\n",
      "    performers = []\n",
      "    if 'performers' in recinfo.keys():\n",
      "        performers = [p['mbid'] for p in recinfo['performers']]\n",
      "    if 'releases' in recinfo.keys():\n",
      "        rels = [r['mbid'] for r in recinfo['releases']]\n",
      "        rel_artists = []\n",
      "        for rel in rels:\n",
      "            relinfo = makam.get_release(rel)\n",
      "            if 'artists' in relinfo.keys():\n",
      "                rel_artists.extend([a['mbid'] for a in relinfo['artists']])\n",
      "            if 'release_artists' in relinfo.keys():\n",
      "                rel_artists.extend([a['mbid'] for a in relinfo['release_artists']])\n",
      "        performers.extend(rel_artists)\n",
      "    performers = unique(performers)\n",
      "    \n",
      "    if len(performers) > 1:\n",
      "        for i in xrange(len(performers)):\n",
      "            for j in xrange(i+1, len(performers)):\n",
      "                if performers[i] in g.nodes():\n",
      "                    if performers[j] in g[performers[i]].keys():\n",
      "                        g[performers[i]][performers[j]]['weight'] += 1\n",
      "                    else:\n",
      "                        g.add_edge(performers[i], performers[j], attr_dict={'weight': 1})\n",
      "                else:\n",
      "                    g.add_edge(performers[i], performers[j], attr_dict={'weight': 1})\n",
      "    \n",
      "    #performer-composer, performer-lyricist\n",
      "    composers = []\n",
      "    lyricists = []\n",
      "    if 'works' in recinfo.keys():\n",
      "        works = [w['mbid'] for w in recinfo['works']]\n",
      "        for work in works:\n",
      "            workinfo = makam.get_work(work)\n",
      "            if 'composers' in workinfo.keys():\n",
      "                composers.extend([c['mbid'] for c in workinfo['composers']])\n",
      "            if 'lyricists' in workinfo.keys():\n",
      "                lyricists.extend([l['mbid'] for l in workinfo['lyricists']])\n",
      "    composers = unique(composers)\n",
      "    lyricists = unique(lyricists)\n",
      "\n",
      "    for p in performers:\n",
      "        for c in composers:\n",
      "            if p in g.nodes():\n",
      "                if c in g[p].keys():\n",
      "                    g[p][c]['weight'] += 1\n",
      "                else:\n",
      "                    g.add_edge(p, c, attr_dict={'weight': 1})\n",
      "            else:\n",
      "                g.add_edge(p, c, attr_dict={'weight': 1})\n",
      "                \n",
      "        for c in lyricists:\n",
      "            if p in g.nodes():\n",
      "                if c in g[p].keys():\n",
      "                    g[p][c]['weight'] += 1\n",
      "                else:\n",
      "                    g.add_edge(p, c, attr_dict={'weight': 1})\n",
      "            else:\n",
      "                g.add_edge(p, c, attr_dict={'weight': 1})"
     ],
     "language": "python",
     "metadata": {},
     "outputs": []
    },
    {
     "cell_type": "code",
     "collapsed": false,
     "input": [
      "print g.number_of_nodes(), g.number_of_edges()"
     ],
     "language": "python",
     "metadata": {},
     "outputs": []
    },
    {
     "cell_type": "code",
     "collapsed": false,
     "input": [
      "import pickle\n",
      "pickle.dump(g, file('/homedtic/gkoduri/workspace/collaborations/makamgraph/data/graph.pickle', 'w'))\n",
      "nx.write_graphml(g, '/homedtic/gkoduri/workspace/collaborations/makamgraph/data/graph.gml', encoding='utf-8')"
     ],
     "language": "python",
     "metadata": {},
     "outputs": []
    },
    {
     "cell_type": "heading",
     "level": 2,
     "metadata": {},
     "source": [
      "Update artist file"
     ]
    },
    {
     "cell_type": "code",
     "collapsed": false,
     "input": [
      "import csv, codecs\n",
      "import pickle"
     ],
     "language": "python",
     "metadata": {},
     "outputs": [],
     "prompt_number": 22
    },
    {
     "cell_type": "code",
     "collapsed": false,
     "input": [
      "g = pickle.load(file('/homedtic/gkoduri/workspace/collaborations/makamgraph/data/graph.pickle'))\n",
      "artist_file = codecs.open('/homedtic/gkoduri/workspace/collaborations/makamgraph/data/artists.csv', 'r', encoding='utf-8').readlines()\n",
      "artist_file = [a.encode('utf-8') for a in artist_file]\n",
      "reader = csv.reader(artist_file)\n",
      "cur_artists = [row[0] for row in reader]"
     ],
     "language": "python",
     "metadata": {},
     "outputs": [],
     "prompt_number": 23
    },
    {
     "cell_type": "code",
     "collapsed": false,
     "input": [
      "new_artists = set(g.nodes()) - set(cur_artists)\n",
      "for mbid in new_artists:\n",
      "    try:\n",
      "        artist_info = makam.get_artist(mbid)\n",
      "        artist_file.append(','.join([artist_info['mbid'], artist_info['name']])+',\\n')\n",
      "    except:\n",
      "        try:\n",
      "            artist_info = makam.get_composer(mbid)\n",
      "            artist_file.append(','.join([artist_info['mbid'], artist_info['name']])+',\\n')\n",
      "        except:\n",
      "            print mbid"
     ],
     "language": "python",
     "metadata": {},
     "outputs": [],
     "prompt_number": 24
    },
    {
     "cell_type": "code",
     "collapsed": false,
     "input": [
      "for i in xrange(len(cur_artists), len(artist_file)):\n",
      "    artist_file[i] = artist_file[i].encode('utf-8')"
     ],
     "language": "python",
     "metadata": {},
     "outputs": [],
     "prompt_number": 25
    },
    {
     "cell_type": "code",
     "collapsed": false,
     "input": [
      "len(artist_file)"
     ],
     "language": "python",
     "metadata": {},
     "outputs": [
      {
       "metadata": {},
       "output_type": "pyout",
       "prompt_number": 26,
       "text": [
        "1466"
       ]
      }
     ],
     "prompt_number": 26
    },
    {
     "cell_type": "code",
     "collapsed": false,
     "input": [
      "out_file = codecs.open('/homedtic/gkoduri/workspace/collaborations/makamgraph/data/artists.csv', 'w')\n",
      "\n",
      "reader = csv.reader(artist_file)\n",
      "rows = [row for row in reader]\n",
      "\n",
      "writer = csv.writer(out_file)\n",
      "writer.writerows(rows)\n",
      "out_file.close()"
     ],
     "language": "python",
     "metadata": {},
     "outputs": [],
     "prompt_number": 28
    },
    {
     "cell_type": "code",
     "collapsed": false,
     "input": [],
     "language": "python",
     "metadata": {},
     "outputs": []
    }
   ],
   "metadata": {}
  }
 ]
}